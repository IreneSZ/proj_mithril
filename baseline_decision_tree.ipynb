{
 "cells": [
  {
   "cell_type": "code",
   "execution_count": 1,
   "metadata": {},
   "outputs": [],
   "source": [
    "import numpy as np\n",
    "import matplotlib.pyplot as plt\n",
    "import pandas as pd\n",
    "from sklearn import tree"
   ]
  },
  {
   "cell_type": "code",
   "execution_count": 2,
   "metadata": {},
   "outputs": [],
   "source": [
    "df = pd.read_csv(\"ivv_normal.csv\")\n",
    "df['ret'] = df['close'].pct_change()\n",
    "\n",
    "#set intial values of lables to 0, will change into -1 or 1 later\n",
    "df['label1'] = 0"
   ]
  },
  {
   "cell_type": "code",
   "execution_count": 3,
   "metadata": {},
   "outputs": [
    {
     "name": "stderr",
     "output_type": "stream",
     "text": [
      "/home/shiyun/.local/lib/python3.6/site-packages/ipykernel_launcher.py:4: SettingWithCopyWarning: \n",
      "A value is trying to be set on a copy of a slice from a DataFrame\n",
      "\n",
      "See the caveats in the documentation: http://pandas.pydata.org/pandas-docs/stable/indexing.html#indexing-view-versus-copy\n",
      "  after removing the cwd from sys.path.\n",
      "/home/shiyun/.local/lib/python3.6/site-packages/ipykernel_launcher.py:6: SettingWithCopyWarning: \n",
      "A value is trying to be set on a copy of a slice from a DataFrame\n",
      "\n",
      "See the caveats in the documentation: http://pandas.pydata.org/pandas-docs/stable/indexing.html#indexing-view-versus-copy\n",
      "  \n"
     ]
    }
   ],
   "source": [
    "#lableing: if return > 0, label as 1, else, label as -1\n",
    "for i in range(0,len(df)):\n",
    "    if df['ret'][i] > 0:\n",
    "        df['label1'][i] = 1\n",
    "    elif df['ret'][i] < 0:\n",
    "        df['label1'][i] = -1\n"
   ]
  },
  {
   "cell_type": "code",
   "execution_count": 4,
   "metadata": {},
   "outputs": [
    {
     "data": {
      "text/html": [
       "<div>\n",
       "<style scoped>\n",
       "    .dataframe tbody tr th:only-of-type {\n",
       "        vertical-align: middle;\n",
       "    }\n",
       "\n",
       "    .dataframe tbody tr th {\n",
       "        vertical-align: top;\n",
       "    }\n",
       "\n",
       "    .dataframe thead th {\n",
       "        text-align: right;\n",
       "    }\n",
       "</style>\n",
       "<table border=\"1\" class=\"dataframe\">\n",
       "  <thead>\n",
       "    <tr style=\"text-align: right;\">\n",
       "      <th></th>\n",
       "      <th>Unnamed: 0</th>\n",
       "      <th>date</th>\n",
       "      <th>low</th>\n",
       "      <th>high</th>\n",
       "      <th>close</th>\n",
       "      <th>volume</th>\n",
       "      <th>open</th>\n",
       "      <th>close-open</th>\n",
       "      <th>close-open_%of_close</th>\n",
       "      <th>high-low</th>\n",
       "      <th>high-low_%of_close</th>\n",
       "      <th>macd</th>\n",
       "      <th>rsi</th>\n",
       "      <th>50d_avg</th>\n",
       "      <th>100d_avg</th>\n",
       "      <th>200d_avg</th>\n",
       "      <th>so</th>\n",
       "      <th>ret</th>\n",
       "      <th>label1</th>\n",
       "    </tr>\n",
       "  </thead>\n",
       "  <tbody>\n",
       "    <tr>\n",
       "      <th>0</th>\n",
       "      <td>200</td>\n",
       "      <td>20010307</td>\n",
       "      <td>-0.439921</td>\n",
       "      <td>-0.455396</td>\n",
       "      <td>126.55</td>\n",
       "      <td>-0.669027</td>\n",
       "      <td>-0.438876</td>\n",
       "      <td>-0.124481</td>\n",
       "      <td>-0.119906</td>\n",
       "      <td>-0.293656</td>\n",
       "      <td>-0.254819</td>\n",
       "      <td>-1.713257</td>\n",
       "      <td>-0.062340</td>\n",
       "      <td>-0.328303</td>\n",
       "      <td>-0.265805</td>\n",
       "      <td>-0.107318</td>\n",
       "      <td>-0.765715</td>\n",
       "      <td>NaN</td>\n",
       "      <td>0</td>\n",
       "    </tr>\n",
       "    <tr>\n",
       "      <th>1</th>\n",
       "      <td>201</td>\n",
       "      <td>20010308</td>\n",
       "      <td>-0.429719</td>\n",
       "      <td>-0.447085</td>\n",
       "      <td>126.92</td>\n",
       "      <td>-1.015534</td>\n",
       "      <td>-0.439084</td>\n",
       "      <td>0.174580</td>\n",
       "      <td>0.180720</td>\n",
       "      <td>-0.327246</td>\n",
       "      <td>-0.289116</td>\n",
       "      <td>-1.572642</td>\n",
       "      <td>0.318968</td>\n",
       "      <td>-0.330083</td>\n",
       "      <td>-0.267201</td>\n",
       "      <td>-0.108762</td>\n",
       "      <td>-0.303249</td>\n",
       "      <td>0.002924</td>\n",
       "      <td>1</td>\n",
       "    </tr>\n",
       "    <tr>\n",
       "      <th>2</th>\n",
       "      <td>202</td>\n",
       "      <td>20010309</td>\n",
       "      <td>-0.494888</td>\n",
       "      <td>-0.480540</td>\n",
       "      <td>123.47</td>\n",
       "      <td>-0.244510</td>\n",
       "      <td>-0.468421</td>\n",
       "      <td>-1.430906</td>\n",
       "      <td>-1.471366</td>\n",
       "      <td>0.240059</td>\n",
       "      <td>0.297527</td>\n",
       "      <td>-1.636192</td>\n",
       "      <td>-0.013111</td>\n",
       "      <td>-0.333621</td>\n",
       "      <td>-0.270195</td>\n",
       "      <td>-0.110353</td>\n",
       "      <td>-1.609645</td>\n",
       "      <td>-0.027182</td>\n",
       "      <td>-1</td>\n",
       "    </tr>\n",
       "    <tr>\n",
       "      <th>3</th>\n",
       "      <td>203</td>\n",
       "      <td>20010312</td>\n",
       "      <td>-0.609195</td>\n",
       "      <td>-0.550982</td>\n",
       "      <td>117.78</td>\n",
       "      <td>-0.285677</td>\n",
       "      <td>-0.534586</td>\n",
       "      <td>-3.406283</td>\n",
       "      <td>-3.679961</td>\n",
       "      <td>1.023836</td>\n",
       "      <td>1.177954</td>\n",
       "      <td>-1.982363</td>\n",
       "      <td>-0.009977</td>\n",
       "      <td>-0.340270</td>\n",
       "      <td>-0.274561</td>\n",
       "      <td>-0.112813</td>\n",
       "      <td>-1.609645</td>\n",
       "      <td>-0.046084</td>\n",
       "      <td>-1</td>\n",
       "    </tr>\n",
       "    <tr>\n",
       "      <th>4</th>\n",
       "      <td>204</td>\n",
       "      <td>20010313</td>\n",
       "      <td>-0.615233</td>\n",
       "      <td>-0.596905</td>\n",
       "      <td>119.72</td>\n",
       "      <td>-1.009871</td>\n",
       "      <td>-0.601999</td>\n",
       "      <td>0.670392</td>\n",
       "      <td>0.718906</td>\n",
       "      <td>0.307240</td>\n",
       "      <td>0.396222</td>\n",
       "      <td>-2.125731</td>\n",
       "      <td>-0.012221</td>\n",
       "      <td>-0.346038</td>\n",
       "      <td>-0.277851</td>\n",
       "      <td>-0.114912</td>\n",
       "      <td>-1.036723</td>\n",
       "      <td>0.016471</td>\n",
       "      <td>1</td>\n",
       "    </tr>\n",
       "  </tbody>\n",
       "</table>\n",
       "</div>"
      ],
      "text/plain": [
       "   Unnamed: 0      date       low      high   close    volume      open  \\\n",
       "0         200  20010307 -0.439921 -0.455396  126.55 -0.669027 -0.438876   \n",
       "1         201  20010308 -0.429719 -0.447085  126.92 -1.015534 -0.439084   \n",
       "2         202  20010309 -0.494888 -0.480540  123.47 -0.244510 -0.468421   \n",
       "3         203  20010312 -0.609195 -0.550982  117.78 -0.285677 -0.534586   \n",
       "4         204  20010313 -0.615233 -0.596905  119.72 -1.009871 -0.601999   \n",
       "\n",
       "   close-open  close-open_%of_close  high-low  high-low_%of_close      macd  \\\n",
       "0   -0.124481             -0.119906 -0.293656           -0.254819 -1.713257   \n",
       "1    0.174580              0.180720 -0.327246           -0.289116 -1.572642   \n",
       "2   -1.430906             -1.471366  0.240059            0.297527 -1.636192   \n",
       "3   -3.406283             -3.679961  1.023836            1.177954 -1.982363   \n",
       "4    0.670392              0.718906  0.307240            0.396222 -2.125731   \n",
       "\n",
       "        rsi   50d_avg  100d_avg  200d_avg        so       ret  label1  \n",
       "0 -0.062340 -0.328303 -0.265805 -0.107318 -0.765715       NaN       0  \n",
       "1  0.318968 -0.330083 -0.267201 -0.108762 -0.303249  0.002924       1  \n",
       "2 -0.013111 -0.333621 -0.270195 -0.110353 -1.609645 -0.027182      -1  \n",
       "3 -0.009977 -0.340270 -0.274561 -0.112813 -1.609645 -0.046084      -1  \n",
       "4 -0.012221 -0.346038 -0.277851 -0.114912 -1.036723  0.016471       1  "
      ]
     },
     "execution_count": 4,
     "metadata": {},
     "output_type": "execute_result"
    }
   ],
   "source": [
    "df.head()"
   ]
  },
  {
   "cell_type": "code",
   "execution_count": 5,
   "metadata": {},
   "outputs": [
    {
     "name": "stdout",
     "output_type": "stream",
     "text": [
      "[ 1 -1  0]\n"
     ]
    }
   ],
   "source": [
    "#check whether label1 has 2 classes\n",
    "print( df['label1'][1:].unique())"
   ]
  },
  {
   "cell_type": "code",
   "execution_count": 6,
   "metadata": {},
   "outputs": [
    {
     "data": {
      "text/plain": [
       "True"
      ]
     },
     "execution_count": 6,
     "metadata": {},
     "output_type": "execute_result"
    }
   ],
   "source": [
    "#prepare data for DT\n",
    "X = df[['low', 'high', 'close','open','volume','close-open_%of_close','high-low_%of_close',\n",
    "             'macd', 'rsi', '50d_avg', '100d_avg', '200d_avg', 'so']][:-1]\n",
    "Y = df['label1'][1:]\n",
    "Y = Y.apply(np.int64)\n",
    "len(X)==len(Y)"
   ]
  },
  {
   "cell_type": "code",
   "execution_count": 7,
   "metadata": {},
   "outputs": [
    {
     "data": {
      "text/plain": [
       "True"
      ]
     },
     "execution_count": 7,
     "metadata": {},
     "output_type": "execute_result"
    }
   ],
   "source": [
    "#split the training and testing data\n",
    "X_train = X.head(3000)\n",
    "y_train = Y.head(3000)\n",
    "\n",
    "X_test = X.loc[3000:]\n",
    "y_test = Y.loc[3001:]\n",
    "len(X_test) ==len(y_test)"
   ]
  },
  {
   "cell_type": "code",
   "execution_count": 8,
   "metadata": {},
   "outputs": [],
   "source": [
    "#train\n",
    "clf = tree.DecisionTreeClassifier()\n",
    "clf = clf.fit(X_train, y_train)"
   ]
  },
  {
   "cell_type": "code",
   "execution_count": 9,
   "metadata": {},
   "outputs": [],
   "source": [
    "#predict\n",
    "y_test_hat = clf.predict(X_test)\n",
    "y_train_hat = clf.predict(X_train)"
   ]
  },
  {
   "cell_type": "code",
   "execution_count": 10,
   "metadata": {},
   "outputs": [],
   "source": [
    "#evaluate\n",
    "#build dataframes to compare actual class and predicted class\n",
    "df_test_comp = pd.DataFrame(data = np.asarray(y_test), columns=['y_test'])\n",
    "df_test_comp['y_test_hat'] = y_test_hat\n",
    "\n",
    "df_train_comp = pd.DataFrame(data = np.asarray(y_train), columns=['y_train'])\n",
    "df_train_comp['y_train_hat'] = y_train_hat\n"
   ]
  },
  {
   "cell_type": "code",
   "execution_count": 11,
   "metadata": {},
   "outputs": [],
   "source": [
    "#calculate accuracy rate, both training and testing\n",
    "df_test_comp['accuracy_level'] = np.where(df_test_comp['y_test'] == df_test_comp['y_test_hat'], 'correct', 'NA')\n",
    "numcorrect = df_test_comp['accuracy_level'].loc[df_test_comp['accuracy_level']=='correct'].count()\n",
    "\n",
    "df_test_comp['accuracy_level'] = np.where(df_test_comp['y_test'] > df_test_comp['y_test_hat'], 'bear', 'NA')\n",
    "numbear = df_test_comp['accuracy_level'].loc[df_test_comp['accuracy_level']=='bear'].count()\n",
    "\n",
    "df_test_comp['accuracy_level'] = np.where(df_test_comp['y_test'] < df_test_comp['y_test_hat'], 'bull', 'NA')\n",
    "numbull = df_test_comp['accuracy_level'].loc[df_test_comp['accuracy_level']=='bull'].count()"
   ]
  },
  {
   "cell_type": "code",
   "execution_count": 12,
   "metadata": {},
   "outputs": [],
   "source": [
    "df_test_comp['direction_correct'] = 0"
   ]
  },
  {
   "cell_type": "code",
   "execution_count": 13,
   "metadata": {},
   "outputs": [
    {
     "name": "stderr",
     "output_type": "stream",
     "text": [
      "/home/shiyun/.local/lib/python3.6/site-packages/ipykernel_launcher.py:4: SettingWithCopyWarning: \n",
      "A value is trying to be set on a copy of a slice from a DataFrame\n",
      "\n",
      "See the caveats in the documentation: http://pandas.pydata.org/pandas-docs/stable/indexing.html#indexing-view-versus-copy\n",
      "  after removing the cwd from sys.path.\n"
     ]
    }
   ],
   "source": [
    "#check if directional correct\n",
    "for i in range(0, len(df_test_comp)):\n",
    "    if df_test_comp['y_test'][i] * df_test_comp['y_test_hat'][i] > 0:\n",
    "        df_test_comp['direction_correct'][i] = 1\n",
    "    else:\n",
    "        pass\n"
   ]
  },
  {
   "cell_type": "code",
   "execution_count": null,
   "metadata": {},
   "outputs": [],
   "source": []
  },
  {
   "cell_type": "code",
   "execution_count": null,
   "metadata": {},
   "outputs": [],
   "source": [
    "#total number of correct prediction in the test set\n",
    "numcorrect"
   ]
  },
  {
   "cell_type": "code",
   "execution_count": null,
   "metadata": {},
   "outputs": [],
   "source": [
    "#total number of BULL prediction in the test set\n",
    "numbull"
   ]
  },
  {
   "cell_type": "code",
   "execution_count": null,
   "metadata": {},
   "outputs": [],
   "source": [
    "#accura\n",
    "df_test_comp['direction_correct'].sum()/len(df_test_comp)"
   ]
  },
  {
   "cell_type": "code",
   "execution_count": null,
   "metadata": {},
   "outputs": [],
   "source": []
  },
  {
   "cell_type": "code",
   "execution_count": null,
   "metadata": {
    "scrolled": true
   },
   "outputs": [],
   "source": [
    "import graphviz\n",
    "dot_data = tree.export_graphviz(clf, out_file='tree.dot') \n",
    "graph = graphviz.Source(dot_data) \n"
   ]
  },
  {
   "cell_type": "code",
   "execution_count": 21,
   "metadata": {},
   "outputs": [],
   "source": [
    "#confusion matrix\n",
    "df_test_comp['bull-bull'] = np.where(df_test_comp['y_test']+df_test_comp['y_test_hat']==2, 1,0)\n",
    "df_test_comp['bull-bear'] = np.where(df_test_comp['y_test'] > df_test_comp['y_test_hat'], 1,0)\n",
    "df_test_comp['bear-bear'] = np.where(df_test_comp['y_test'] + df_test_comp['y_test_hat']==-2, 1,0)\n",
    "df_test_comp['bear-bull'] = np.where(df_test_comp['y_test'] < df_test_comp['y_test_hat'], 1,0)"
   ]
  },
  {
   "cell_type": "code",
   "execution_count": 22,
   "metadata": {},
   "outputs": [
    {
     "data": {
      "text/html": [
       "<div>\n",
       "<style scoped>\n",
       "    .dataframe tbody tr th:only-of-type {\n",
       "        vertical-align: middle;\n",
       "    }\n",
       "\n",
       "    .dataframe tbody tr th {\n",
       "        vertical-align: top;\n",
       "    }\n",
       "\n",
       "    .dataframe thead th {\n",
       "        text-align: right;\n",
       "    }\n",
       "</style>\n",
       "<table border=\"1\" class=\"dataframe\">\n",
       "  <thead>\n",
       "    <tr style=\"text-align: right;\">\n",
       "      <th></th>\n",
       "      <th>y_test</th>\n",
       "      <th>y_test_hat</th>\n",
       "      <th>accuracy_level</th>\n",
       "      <th>direction_correct</th>\n",
       "      <th>bull-bull</th>\n",
       "      <th>bull-bear</th>\n",
       "      <th>bear-bear</th>\n",
       "      <th>bear-bull</th>\n",
       "    </tr>\n",
       "  </thead>\n",
       "  <tbody>\n",
       "    <tr>\n",
       "      <th>0</th>\n",
       "      <td>1</td>\n",
       "      <td>-1</td>\n",
       "      <td>NA</td>\n",
       "      <td>0</td>\n",
       "      <td>0</td>\n",
       "      <td>1</td>\n",
       "      <td>0</td>\n",
       "      <td>0</td>\n",
       "    </tr>\n",
       "    <tr>\n",
       "      <th>1</th>\n",
       "      <td>1</td>\n",
       "      <td>-1</td>\n",
       "      <td>NA</td>\n",
       "      <td>0</td>\n",
       "      <td>0</td>\n",
       "      <td>1</td>\n",
       "      <td>0</td>\n",
       "      <td>0</td>\n",
       "    </tr>\n",
       "    <tr>\n",
       "      <th>2</th>\n",
       "      <td>1</td>\n",
       "      <td>-1</td>\n",
       "      <td>NA</td>\n",
       "      <td>0</td>\n",
       "      <td>0</td>\n",
       "      <td>1</td>\n",
       "      <td>0</td>\n",
       "      <td>0</td>\n",
       "    </tr>\n",
       "    <tr>\n",
       "      <th>3</th>\n",
       "      <td>-1</td>\n",
       "      <td>-1</td>\n",
       "      <td>NA</td>\n",
       "      <td>1</td>\n",
       "      <td>0</td>\n",
       "      <td>0</td>\n",
       "      <td>1</td>\n",
       "      <td>0</td>\n",
       "    </tr>\n",
       "    <tr>\n",
       "      <th>4</th>\n",
       "      <td>1</td>\n",
       "      <td>1</td>\n",
       "      <td>NA</td>\n",
       "      <td>1</td>\n",
       "      <td>1</td>\n",
       "      <td>0</td>\n",
       "      <td>0</td>\n",
       "      <td>0</td>\n",
       "    </tr>\n",
       "  </tbody>\n",
       "</table>\n",
       "</div>"
      ],
      "text/plain": [
       "   y_test  y_test_hat accuracy_level  direction_correct  bull-bull  bull-bear  \\\n",
       "0       1          -1             NA                  0          0          1   \n",
       "1       1          -1             NA                  0          0          1   \n",
       "2       1          -1             NA                  0          0          1   \n",
       "3      -1          -1             NA                  1          0          0   \n",
       "4       1           1             NA                  1          1          0   \n",
       "\n",
       "   bear-bear  bear-bull  \n",
       "0          0          0  \n",
       "1          0          0  \n",
       "2          0          0  \n",
       "3          1          0  \n",
       "4          0          0  "
      ]
     },
     "execution_count": 22,
     "metadata": {},
     "output_type": "execute_result"
    }
   ],
   "source": [
    "df_test_comp.head()"
   ]
  },
  {
   "cell_type": "code",
   "execution_count": 29,
   "metadata": {},
   "outputs": [],
   "source": [
    "bull_bear = df_test_comp['bull-bear'].sum()/len(df_test_comp)\n",
    "bull_bull= df_test_comp['bull-bull'].sum()/len(df_test_comp)\n",
    "bear_bear= df_test_comp['bear-bear'].sum()/len(df_test_comp)\n",
    "bear_bull= df_test_comp['bear-bull'].sum()/len(df_test_comp)"
   ]
  },
  {
   "cell_type": "code",
   "execution_count": 30,
   "metadata": {},
   "outputs": [
    {
     "data": {
      "text/plain": [
       "0.4365781710914454"
      ]
     },
     "execution_count": 30,
     "metadata": {},
     "output_type": "execute_result"
    }
   ],
   "source": [
    "bull_bear"
   ]
  },
  {
   "cell_type": "code",
   "execution_count": 31,
   "metadata": {},
   "outputs": [
    {
     "data": {
      "text/plain": [
       "0.11135693215339233"
      ]
     },
     "execution_count": 31,
     "metadata": {},
     "output_type": "execute_result"
    }
   ],
   "source": [
    "bull_bull"
   ]
  },
  {
   "cell_type": "code",
   "execution_count": 32,
   "metadata": {},
   "outputs": [
    {
     "data": {
      "text/plain": [
       "0.3502949852507375"
      ]
     },
     "execution_count": 32,
     "metadata": {},
     "output_type": "execute_result"
    }
   ],
   "source": [
    "bear_bear"
   ]
  },
  {
   "cell_type": "code",
   "execution_count": 33,
   "metadata": {},
   "outputs": [
    {
     "data": {
      "text/plain": [
       "0.10176991150442478"
      ]
     },
     "execution_count": 33,
     "metadata": {},
     "output_type": "execute_result"
    }
   ],
   "source": [
    "bear_bull"
   ]
  },
  {
   "cell_type": "code",
   "execution_count": null,
   "metadata": {},
   "outputs": [],
   "source": []
  }
 ],
 "metadata": {
  "@webio": {
   "lastCommId": "5674ceb8418b4c7780b42db8fe39359b",
   "lastKernelId": "769a4093-86bb-4179-b80f-e0ec9ef4dcaa"
  },
  "kernelspec": {
   "display_name": "Python 3",
   "language": "python",
   "name": "python3"
  },
  "language_info": {
   "codemirror_mode": {
    "name": "ipython",
    "version": 3
   },
   "file_extension": ".py",
   "mimetype": "text/x-python",
   "name": "python",
   "nbconvert_exporter": "python",
   "pygments_lexer": "ipython3",
   "version": "3.6.5"
  }
 },
 "nbformat": 4,
 "nbformat_minor": 2
}
