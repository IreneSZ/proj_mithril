{
 "cells": [
  {
   "cell_type": "markdown",
   "metadata": {},
   "source": [
    "### First, build a simple linear regression\n",
    "\n",
    "\n",
    "# To change: add past 22 day window; try predicting log(return)"
   ]
  },
  {
   "cell_type": "code",
   "execution_count": 1,
   "metadata": {},
   "outputs": [
    {
     "data": {
      "text/html": [
       "<div>\n",
       "<style scoped>\n",
       "    .dataframe tbody tr th:only-of-type {\n",
       "        vertical-align: middle;\n",
       "    }\n",
       "\n",
       "    .dataframe tbody tr th {\n",
       "        vertical-align: top;\n",
       "    }\n",
       "\n",
       "    .dataframe thead th {\n",
       "        text-align: right;\n",
       "    }\n",
       "</style>\n",
       "<table border=\"1\" class=\"dataframe\">\n",
       "  <thead>\n",
       "    <tr style=\"text-align: right;\">\n",
       "      <th></th>\n",
       "      <th>Unnamed: 0</th>\n",
       "      <th>date</th>\n",
       "      <th>low</th>\n",
       "      <th>high</th>\n",
       "      <th>close</th>\n",
       "      <th>volume</th>\n",
       "      <th>open</th>\n",
       "      <th>close-open</th>\n",
       "      <th>close-open_%of_close</th>\n",
       "      <th>high-low</th>\n",
       "      <th>high-low_%of_close</th>\n",
       "    </tr>\n",
       "  </thead>\n",
       "  <tbody>\n",
       "    <tr>\n",
       "      <th>0</th>\n",
       "      <td>0</td>\n",
       "      <td>20000519</td>\n",
       "      <td>140.25000</td>\n",
       "      <td>142.65625</td>\n",
       "      <td>140.68750</td>\n",
       "      <td>775500</td>\n",
       "      <td>142.65625</td>\n",
       "      <td>-1.96875</td>\n",
       "      <td>-0.013994</td>\n",
       "      <td>2.40625</td>\n",
       "      <td>0.017104</td>\n",
       "    </tr>\n",
       "    <tr>\n",
       "      <th>1</th>\n",
       "      <td>1</td>\n",
       "      <td>20000522</td>\n",
       "      <td>136.81250</td>\n",
       "      <td>140.59375</td>\n",
       "      <td>139.81250</td>\n",
       "      <td>1850599</td>\n",
       "      <td>140.59375</td>\n",
       "      <td>-0.78125</td>\n",
       "      <td>-0.005588</td>\n",
       "      <td>3.78125</td>\n",
       "      <td>0.027045</td>\n",
       "    </tr>\n",
       "    <tr>\n",
       "      <th>2</th>\n",
       "      <td>2</td>\n",
       "      <td>20000523</td>\n",
       "      <td>137.68750</td>\n",
       "      <td>140.21875</td>\n",
       "      <td>137.68750</td>\n",
       "      <td>373900</td>\n",
       "      <td>140.21875</td>\n",
       "      <td>-2.53125</td>\n",
       "      <td>-0.018384</td>\n",
       "      <td>2.53125</td>\n",
       "      <td>0.018384</td>\n",
       "    </tr>\n",
       "    <tr>\n",
       "      <th>3</th>\n",
       "      <td>3</td>\n",
       "      <td>20000524</td>\n",
       "      <td>136.65625</td>\n",
       "      <td>140.06250</td>\n",
       "      <td>139.75000</td>\n",
       "      <td>400300</td>\n",
       "      <td>137.75000</td>\n",
       "      <td>2.00000</td>\n",
       "      <td>0.014311</td>\n",
       "      <td>3.40625</td>\n",
       "      <td>0.024374</td>\n",
       "    </tr>\n",
       "    <tr>\n",
       "      <th>4</th>\n",
       "      <td>4</td>\n",
       "      <td>20000525</td>\n",
       "      <td>137.87500</td>\n",
       "      <td>140.93750</td>\n",
       "      <td>138.46875</td>\n",
       "      <td>69600</td>\n",
       "      <td>140.03125</td>\n",
       "      <td>-1.56250</td>\n",
       "      <td>-0.011284</td>\n",
       "      <td>3.06250</td>\n",
       "      <td>0.022117</td>\n",
       "    </tr>\n",
       "  </tbody>\n",
       "</table>\n",
       "</div>"
      ],
      "text/plain": [
       "   Unnamed: 0      date        low       high      close   volume       open  \\\n",
       "0           0  20000519  140.25000  142.65625  140.68750   775500  142.65625   \n",
       "1           1  20000522  136.81250  140.59375  139.81250  1850599  140.59375   \n",
       "2           2  20000523  137.68750  140.21875  137.68750   373900  140.21875   \n",
       "3           3  20000524  136.65625  140.06250  139.75000   400300  137.75000   \n",
       "4           4  20000525  137.87500  140.93750  138.46875    69600  140.03125   \n",
       "\n",
       "   close-open  close-open_%of_close  high-low  high-low_%of_close  \n",
       "0    -1.96875             -0.013994   2.40625            0.017104  \n",
       "1    -0.78125             -0.005588   3.78125            0.027045  \n",
       "2    -2.53125             -0.018384   2.53125            0.018384  \n",
       "3     2.00000              0.014311   3.40625            0.024374  \n",
       "4    -1.56250             -0.011284   3.06250            0.022117  "
      ]
     },
     "execution_count": 1,
     "metadata": {},
     "output_type": "execute_result"
    }
   ],
   "source": [
    "import pandas as pd\n",
    "import numpy as np\n",
    "import matplotlib.pyplot as plt\n",
    "df = pd.read_csv(\"ivv_cleaned.csv\")\n",
    "df.head()"
   ]
  },
  {
   "cell_type": "code",
   "execution_count": 2,
   "metadata": {},
   "outputs": [],
   "source": [
    "from sklearn import linear_model\n",
    "reg = linear_model.Ridge(alpha=.5)\n",
    "#since we are using day T's info to predict day T+1's price, need to change the date ranges of X and y\n",
    "X = df[['low','high','close','open','close-open','close-open_%of_close','high-low',\n",
    "        'high-low_%of_close']].loc[0:4555]\n",
    "next_day_price = df['close'].loc[1:4556].reset_index()\n",
    "ret = next_day_price/(X['close'].reset_index())-1\n",
    "ret =ret['close']\n",
    "y = ret"
   ]
  },
  {
   "cell_type": "code",
   "execution_count": 3,
   "metadata": {},
   "outputs": [],
   "source": [
    "#split X_train, X_test; y_train, y_test\n",
    "X_train = X.head(3000)\n",
    "X_test = X.loc[3000:]\n",
    "y_train = y.head(3000)"
   ]
  },
  {
   "cell_type": "code",
   "execution_count": 4,
   "metadata": {},
   "outputs": [
    {
     "data": {
      "text/plain": [
       "Ridge(alpha=0.5, copy_X=True, fit_intercept=True, max_iter=None,\n",
       "   normalize=False, random_state=None, solver='auto', tol=0.001)"
      ]
     },
     "execution_count": 4,
     "metadata": {},
     "output_type": "execute_result"
    }
   ],
   "source": [
    "reg.fit(X_train,y_train) "
   ]
  },
  {
   "cell_type": "code",
   "execution_count": 5,
   "metadata": {},
   "outputs": [],
   "source": [
    "y_train_hat = reg.predict(X_train)"
   ]
  },
  {
   "cell_type": "code",
   "execution_count": 6,
   "metadata": {},
   "outputs": [],
   "source": [
    "port_train = X_train\n",
    "s = pd.DataFrame(y_train_hat)\n",
    "port_train = pd.concat([X_train, s[0:3000]],axis=1)\n",
    "#port_train.rename(columns={0:'predicted'}, inplace=True)\n",
    "port_train['predict%'] = y_train_hat"
   ]
  },
  {
   "cell_type": "code",
   "execution_count": 7,
   "metadata": {},
   "outputs": [
    {
     "data": {
      "text/html": [
       "<div>\n",
       "<style scoped>\n",
       "    .dataframe tbody tr th:only-of-type {\n",
       "        vertical-align: middle;\n",
       "    }\n",
       "\n",
       "    .dataframe tbody tr th {\n",
       "        vertical-align: top;\n",
       "    }\n",
       "\n",
       "    .dataframe thead th {\n",
       "        text-align: right;\n",
       "    }\n",
       "</style>\n",
       "<table border=\"1\" class=\"dataframe\">\n",
       "  <thead>\n",
       "    <tr style=\"text-align: right;\">\n",
       "      <th></th>\n",
       "      <th>low</th>\n",
       "      <th>high</th>\n",
       "      <th>close</th>\n",
       "      <th>open</th>\n",
       "      <th>close-open</th>\n",
       "      <th>close-open_%of_close</th>\n",
       "      <th>high-low</th>\n",
       "      <th>high-low_%of_close</th>\n",
       "      <th>0</th>\n",
       "      <th>predict%</th>\n",
       "      <th>action_level</th>\n",
       "    </tr>\n",
       "  </thead>\n",
       "  <tbody>\n",
       "    <tr>\n",
       "      <th>0</th>\n",
       "      <td>140.25000</td>\n",
       "      <td>142.65625</td>\n",
       "      <td>140.68750</td>\n",
       "      <td>142.65625</td>\n",
       "      <td>-1.96875</td>\n",
       "      <td>-0.013994</td>\n",
       "      <td>2.40625</td>\n",
       "      <td>0.017104</td>\n",
       "      <td>-0.000233</td>\n",
       "      <td>-0.000233</td>\n",
       "      <td>0</td>\n",
       "    </tr>\n",
       "    <tr>\n",
       "      <th>1</th>\n",
       "      <td>136.81250</td>\n",
       "      <td>140.59375</td>\n",
       "      <td>139.81250</td>\n",
       "      <td>140.59375</td>\n",
       "      <td>-0.78125</td>\n",
       "      <td>-0.005588</td>\n",
       "      <td>3.78125</td>\n",
       "      <td>0.027045</td>\n",
       "      <td>-0.002696</td>\n",
       "      <td>-0.002696</td>\n",
       "      <td>0</td>\n",
       "    </tr>\n",
       "    <tr>\n",
       "      <th>2</th>\n",
       "      <td>137.68750</td>\n",
       "      <td>140.21875</td>\n",
       "      <td>137.68750</td>\n",
       "      <td>140.21875</td>\n",
       "      <td>-2.53125</td>\n",
       "      <td>-0.018384</td>\n",
       "      <td>2.53125</td>\n",
       "      <td>0.018384</td>\n",
       "      <td>0.000298</td>\n",
       "      <td>0.000298</td>\n",
       "      <td>0</td>\n",
       "    </tr>\n",
       "    <tr>\n",
       "      <th>3</th>\n",
       "      <td>136.65625</td>\n",
       "      <td>140.06250</td>\n",
       "      <td>139.75000</td>\n",
       "      <td>137.75000</td>\n",
       "      <td>2.00000</td>\n",
       "      <td>0.014311</td>\n",
       "      <td>3.40625</td>\n",
       "      <td>0.024374</td>\n",
       "      <td>-0.003053</td>\n",
       "      <td>-0.003053</td>\n",
       "      <td>0</td>\n",
       "    </tr>\n",
       "    <tr>\n",
       "      <th>4</th>\n",
       "      <td>137.87500</td>\n",
       "      <td>140.93750</td>\n",
       "      <td>138.46875</td>\n",
       "      <td>140.03125</td>\n",
       "      <td>-1.56250</td>\n",
       "      <td>-0.011284</td>\n",
       "      <td>3.06250</td>\n",
       "      <td>0.022117</td>\n",
       "      <td>-0.000423</td>\n",
       "      <td>-0.000423</td>\n",
       "      <td>0</td>\n",
       "    </tr>\n",
       "  </tbody>\n",
       "</table>\n",
       "</div>"
      ],
      "text/plain": [
       "         low       high      close       open  close-open  \\\n",
       "0  140.25000  142.65625  140.68750  142.65625    -1.96875   \n",
       "1  136.81250  140.59375  139.81250  140.59375    -0.78125   \n",
       "2  137.68750  140.21875  137.68750  140.21875    -2.53125   \n",
       "3  136.65625  140.06250  139.75000  137.75000     2.00000   \n",
       "4  137.87500  140.93750  138.46875  140.03125    -1.56250   \n",
       "\n",
       "   close-open_%of_close  high-low  high-low_%of_close         0  predict%  \\\n",
       "0             -0.013994   2.40625            0.017104 -0.000233 -0.000233   \n",
       "1             -0.005588   3.78125            0.027045 -0.002696 -0.002696   \n",
       "2             -0.018384   2.53125            0.018384  0.000298  0.000298   \n",
       "3              0.014311   3.40625            0.024374 -0.003053 -0.003053   \n",
       "4             -0.011284   3.06250            0.022117 -0.000423 -0.000423   \n",
       "\n",
       "   action_level  \n",
       "0             0  \n",
       "1             0  \n",
       "2             0  \n",
       "3             0  \n",
       "4             0  "
      ]
     },
     "execution_count": 7,
     "metadata": {},
     "output_type": "execute_result"
    }
   ],
   "source": [
    "#> 0.001:strong buy, 2\n",
    "#> 0.0003: buy, 1\n",
    "#<-0.01:strong sell, -2\n",
    "#<-0.005: sell, -1\n",
    "port_train['action_level'] = 0\n",
    "port_train.head()"
   ]
  },
  {
   "cell_type": "code",
   "execution_count": 8,
   "metadata": {},
   "outputs": [],
   "source": [
    "#find quantiles of the predict%\n",
    "strongbuy = port_train['predict%'].quantile(0.75)\n",
    "buy = port_train['predict%'].quantile(0.5)\n",
    "sell = port_train['predict%'].quantile(0.4)\n",
    "strongsell = port_train['predict%'].quantile(0.2)"
   ]
  },
  {
   "cell_type": "code",
   "execution_count": 9,
   "metadata": {},
   "outputs": [
    {
     "data": {
      "text/plain": [
       "0.0007881759662167255"
      ]
     },
     "execution_count": 9,
     "metadata": {},
     "output_type": "execute_result"
    }
   ],
   "source": [
    "strongbuy"
   ]
  },
  {
   "cell_type": "code",
   "execution_count": 10,
   "metadata": {},
   "outputs": [],
   "source": [
    "for i in range(1,len(port_train)):\n",
    "    if port_train.loc[i,'predict%'] >= strongbuy:\n",
    "        port_train.loc[i, 'action_level'] = 2\n",
    "    elif port_train.loc[i,'predict%'] >= buy:\n",
    "        port_train.loc[i, 'action_level'] = 1\n",
    "    elif port_train.loc[i,'predict%'] >= strongsell and port_train.loc[i,'predict%'] < sell:\n",
    "        port_train.loc[i, 'action_level'] = -1\n",
    "    elif port_train.loc[i,'predict%'] < strongsell:\n",
    "        port_train.loc[i, 'action_level'] = -2"
   ]
  },
  {
   "cell_type": "code",
   "execution_count": 11,
   "metadata": {},
   "outputs": [
    {
     "name": "stdout",
     "output_type": "stream",
     "text": [
      "[ 0 -2  1 -1  2]\n"
     ]
    }
   ],
   "source": [
    "print(port_train['action_level'].unique())"
   ]
  },
  {
   "cell_type": "code",
   "execution_count": 12,
   "metadata": {},
   "outputs": [],
   "source": [
    "#portfolio starts at day 0 with 100,000 cash\n",
    "port_train['action'] = 0\n",
    "port_train['cash'] = 100000\n",
    "port_train['#of_share'] = 0\n",
    "port_train['tot_value'] = 100000"
   ]
  },
  {
   "cell_type": "code",
   "execution_count": 13,
   "metadata": {},
   "outputs": [],
   "source": [
    "def rule(port_train):\n",
    "    for i in range(1,len(port_train)-1):\n",
    "\n",
    "        if port_train.loc[i-1, 'action_level'] == 0:\n",
    "            pass\n",
    "\n",
    "        elif port_train.loc[i-1, 'action_level'] == 2:\n",
    "            #then will buy or sell at day i+1, assuming at the open price of day i+1\n",
    "            action_price = port_train.loc[i, 'open']\n",
    "            #buy as much as possible\n",
    "            port_train.loc[i, 'action'] = port_train.loc[i-1, 'cash']//action_price\n",
    "            #on day i+1, cash will decrease, #of shares will increase\n",
    "\n",
    "\n",
    "        elif port_train.loc[i-1, 'action_level'] == 1:\n",
    "            action_price = port_train.loc[i, 'open']\n",
    "            #buy half the maximum possible share\n",
    "            port_train.loc[i, 'action'] = port_train.loc[i-1, 'cash']//action_price//2\n",
    "\n",
    "        elif port_train.loc[i-1, 'action_level'] == -2:\n",
    "            action_price = port_train.loc[i, 'open']\n",
    "            #sell as much as possible, if on day i, # of shares held is possitive\n",
    "            if port_train.loc[i-1, '#of_share'] > 0:\n",
    "                port_train.loc[i, 'action'] = -port_train.loc[i-1, '#of_share']\n",
    "            else:\n",
    "                pass\n",
    "\n",
    "        elif port_train.loc[i-1, 'action_level'] == -1:\n",
    "            action_price = port_train.loc[i, 'open']\n",
    "            #sell half of the shares at hand\n",
    "            if port_train.loc[i-1, '#of_share'] > 0:\n",
    "                port_train.loc[i, 'action'] = -port_train.loc[i-1, '#of_share']//2\n",
    "            else:\n",
    "                pass\n",
    "\n",
    "        port_train.loc[i, '#of_share'] = port_train.loc[i, 'action'] + port_train.loc[i-1, '#of_share']\n",
    "        port_train.loc[i, 'cash'] = port_train.loc[i-1, 'cash'] - port_train.loc[i, 'action'] * port_train.loc[i, 'open']\n",
    "        port_train.loc[i, 'tot_value'] = port_train.loc[i,'cash'] + port_train.loc[i,'#of_share']*port_train.loc[i,'close']\n",
    "        port_train.loc[len(port_train)-1, 'tot_value'] = port_train.loc[len(port_train)-2,'tot_value']\n",
    "        port_train.loc[len(port_train)-1, 'cash'] = port_train.loc[len(port_train)-2,'cash']  \n",
    "    return port_train"
   ]
  },
  {
   "cell_type": "code",
   "execution_count": 14,
   "metadata": {},
   "outputs": [],
   "source": [
    "port_train = rule(port_train)"
   ]
  },
  {
   "cell_type": "code",
   "execution_count": 15,
   "metadata": {},
   "outputs": [
    {
     "data": {
      "text/plain": [
       "<matplotlib.axes._subplots.AxesSubplot at 0x7f9f70ad1588>"
      ]
     },
     "execution_count": 15,
     "metadata": {},
     "output_type": "execute_result"
    },
    {
     "data": {
      "image/png": "[encoded data removed]",
      "text/plain": [
       "<Figure size 432x288 with 1 Axes>"
      ]
     },
     "metadata": {
      "needs_background": "light"
     },
     "output_type": "display_data"
    }
   ],
   "source": [
    "passive_port = df['close']*100000/port_train.loc[0,'close']\n",
    "df_train_compare = pd.concat([port_train['tot_value'],passive_port],axis=1)\n",
    "df_train_compare.rename(columns={'tot_value':'training portfolio','close':'IVV portfolio'},inplace=True)\n",
    "df_train_compare.plot()"
   ]
  },
  {
   "cell_type": "markdown",
   "metadata": {},
   "source": [
    "## to do: add hitogram of buy or sell actions"
   ]
  },
  {
   "cell_type": "markdown",
   "metadata": {},
   "source": [
    "## plot the test result"
   ]
  },
  {
   "cell_type": "code",
   "execution_count": 16,
   "metadata": {},
   "outputs": [],
   "source": [
    "y_test_hat = reg.predict(X_test)\n",
    "s_test = pd.DataFrame(y_test_hat)"
   ]
  },
  {
   "cell_type": "code",
   "execution_count": 17,
   "metadata": {},
   "outputs": [
    {
     "data": {
      "text/plain": [
       "True"
      ]
     },
     "execution_count": 17,
     "metadata": {},
     "output_type": "execute_result"
    }
   ],
   "source": [
    "len(y_test_hat)==len(s_test)"
   ]
  },
  {
   "cell_type": "code",
   "execution_count": 18,
   "metadata": {},
   "outputs": [
    {
     "data": {
      "text/plain": [
       "array([-0.00021058, -0.00047303, -0.00126117, ..., -0.00550789,\n",
       "       -0.00497601, -0.00736631])"
      ]
     },
     "execution_count": 18,
     "metadata": {},
     "output_type": "execute_result"
    }
   ],
   "source": [
    "y_test_hat"
   ]
  },
  {
   "cell_type": "code",
   "execution_count": 19,
   "metadata": {},
   "outputs": [],
   "source": [
    "port_test = pd.concat([X_test.reset_index(), s_test],axis=1)"
   ]
  },
  {
   "cell_type": "code",
   "execution_count": 20,
   "metadata": {},
   "outputs": [],
   "source": [
    "port_test.rename(columns={0:'predicted'}, inplace=True)"
   ]
  },
  {
   "cell_type": "code",
   "execution_count": null,
   "metadata": {},
   "outputs": [],
   "source": [
    "port_test"
   ]
  },
  {
   "cell_type": "code",
   "execution_count": 21,
   "metadata": {},
   "outputs": [
    {
     "data": {
      "text/html": [
       "<div>\n",
       "<style scoped>\n",
       "    .dataframe tbody tr th:only-of-type {\n",
       "        vertical-align: middle;\n",
       "    }\n",
       "\n",
       "    .dataframe tbody tr th {\n",
       "        vertical-align: top;\n",
       "    }\n",
       "\n",
       "    .dataframe thead th {\n",
       "        text-align: right;\n",
       "    }\n",
       "</style>\n",
       "<table border=\"1\" class=\"dataframe\">\n",
       "  <thead>\n",
       "    <tr style=\"text-align: right;\">\n",
       "      <th></th>\n",
       "      <th>index</th>\n",
       "      <th>low</th>\n",
       "      <th>high</th>\n",
       "      <th>close</th>\n",
       "      <th>open</th>\n",
       "      <th>close-open</th>\n",
       "      <th>close-open_%of_close</th>\n",
       "      <th>high-low</th>\n",
       "      <th>high-low_%of_close</th>\n",
       "      <th>predicted</th>\n",
       "      <th>predict%</th>\n",
       "      <th>action_level</th>\n",
       "    </tr>\n",
       "  </thead>\n",
       "  <tbody>\n",
       "    <tr>\n",
       "      <th>0</th>\n",
       "      <td>3000</td>\n",
       "      <td>137.32001</td>\n",
       "      <td>138.14000</td>\n",
       "      <td>137.78999</td>\n",
       "      <td>137.42999</td>\n",
       "      <td>0.36000</td>\n",
       "      <td>0.002613</td>\n",
       "      <td>0.81999</td>\n",
       "      <td>0.005951</td>\n",
       "      <td>-0.000211</td>\n",
       "      <td>-0.000211</td>\n",
       "      <td>0</td>\n",
       "    </tr>\n",
       "    <tr>\n",
       "      <th>1</th>\n",
       "      <td>3001</td>\n",
       "      <td>139.03999</td>\n",
       "      <td>139.73000</td>\n",
       "      <td>139.73000</td>\n",
       "      <td>139.16000</td>\n",
       "      <td>0.57000</td>\n",
       "      <td>0.004079</td>\n",
       "      <td>0.69001</td>\n",
       "      <td>0.004938</td>\n",
       "      <td>-0.000473</td>\n",
       "      <td>-0.000473</td>\n",
       "      <td>0</td>\n",
       "    </tr>\n",
       "    <tr>\n",
       "      <th>2</th>\n",
       "      <td>3002</td>\n",
       "      <td>139.31000</td>\n",
       "      <td>140.82001</td>\n",
       "      <td>140.66000</td>\n",
       "      <td>139.39999</td>\n",
       "      <td>1.26001</td>\n",
       "      <td>0.008958</td>\n",
       "      <td>1.51001</td>\n",
       "      <td>0.010735</td>\n",
       "      <td>-0.001261</td>\n",
       "      <td>-0.001261</td>\n",
       "      <td>0</td>\n",
       "    </tr>\n",
       "    <tr>\n",
       "      <th>3</th>\n",
       "      <td>3003</td>\n",
       "      <td>140.31770</td>\n",
       "      <td>141.28999</td>\n",
       "      <td>140.91000</td>\n",
       "      <td>141.11000</td>\n",
       "      <td>-0.20000</td>\n",
       "      <td>-0.001419</td>\n",
       "      <td>0.97229</td>\n",
       "      <td>0.006900</td>\n",
       "      <td>-0.000381</td>\n",
       "      <td>-0.000381</td>\n",
       "      <td>0</td>\n",
       "    </tr>\n",
       "    <tr>\n",
       "      <th>4</th>\n",
       "      <td>3004</td>\n",
       "      <td>140.00000</td>\n",
       "      <td>140.72000</td>\n",
       "      <td>140.28000</td>\n",
       "      <td>140.62000</td>\n",
       "      <td>-0.34000</td>\n",
       "      <td>-0.002424</td>\n",
       "      <td>0.72000</td>\n",
       "      <td>0.005133</td>\n",
       "      <td>-0.000042</td>\n",
       "      <td>-0.000042</td>\n",
       "      <td>0</td>\n",
       "    </tr>\n",
       "  </tbody>\n",
       "</table>\n",
       "</div>"
      ],
      "text/plain": [
       "   index        low       high      close       open  close-open  \\\n",
       "0   3000  137.32001  138.14000  137.78999  137.42999     0.36000   \n",
       "1   3001  139.03999  139.73000  139.73000  139.16000     0.57000   \n",
       "2   3002  139.31000  140.82001  140.66000  139.39999     1.26001   \n",
       "3   3003  140.31770  141.28999  140.91000  141.11000    -0.20000   \n",
       "4   3004  140.00000  140.72000  140.28000  140.62000    -0.34000   \n",
       "\n",
       "   close-open_%of_close  high-low  high-low_%of_close  predicted  predict%  \\\n",
       "0              0.002613   0.81999            0.005951  -0.000211 -0.000211   \n",
       "1              0.004079   0.69001            0.004938  -0.000473 -0.000473   \n",
       "2              0.008958   1.51001            0.010735  -0.001261 -0.001261   \n",
       "3             -0.001419   0.97229            0.006900  -0.000381 -0.000381   \n",
       "4             -0.002424   0.72000            0.005133  -0.000042 -0.000042   \n",
       "\n",
       "   action_level  \n",
       "0             0  \n",
       "1             0  \n",
       "2             0  \n",
       "3             0  \n",
       "4             0  "
      ]
     },
     "execution_count": 21,
     "metadata": {},
     "output_type": "execute_result"
    }
   ],
   "source": [
    "port_test['predict%'] = y_test_hat\n",
    "port_test['action_level'] = 0\n",
    "port_test.head()"
   ]
  },
  {
   "cell_type": "code",
   "execution_count": 22,
   "metadata": {},
   "outputs": [],
   "source": [
    "for i in range(0,len(port_test)-1):\n",
    "    if port_test.loc[i,'predict%'] >= strongbuy:\n",
    "        port_test.loc[i, 'action_level'] = 2\n",
    "    elif port_test.loc[i,'predict%'] >= buy:\n",
    "        port_test.loc[i, 'action_level'] = 1\n",
    "    elif port_test.loc[i,'predict%'] >= strongsell and port_test.loc[i,'predict%'] < sell:\n",
    "        port_test.loc[i, 'action_level'] = -1\n",
    "    elif port_test.loc[i,'predict%'] < -strongsell:\n",
    "        port_test.loc[i, 'action_level'] = -2"
   ]
  },
  {
   "cell_type": "code",
   "execution_count": 23,
   "metadata": {},
   "outputs": [
    {
     "name": "stdout",
     "output_type": "stream",
     "text": [
      "[-1 -2  1  0]\n"
     ]
    }
   ],
   "source": [
    "print(port_test['action_level'].unique())"
   ]
  },
  {
   "cell_type": "code",
   "execution_count": 24,
   "metadata": {},
   "outputs": [],
   "source": [
    "port_test['action'] = 0\n",
    "port_test['cash'] = 100000\n",
    "port_test['#of_share'] = 0\n",
    "port_test['tot_value'] = 100000"
   ]
  },
  {
   "cell_type": "code",
   "execution_count": 25,
   "metadata": {},
   "outputs": [],
   "source": [
    "port_test = rule(port_test)"
   ]
  },
  {
   "cell_type": "code",
   "execution_count": 30,
   "metadata": {},
   "outputs": [
    {
     "data": {
      "text/html": [
       "<div>\n",
       "<style scoped>\n",
       "    .dataframe tbody tr th:only-of-type {\n",
       "        vertical-align: middle;\n",
       "    }\n",
       "\n",
       "    .dataframe tbody tr th {\n",
       "        vertical-align: top;\n",
       "    }\n",
       "\n",
       "    .dataframe thead th {\n",
       "        text-align: right;\n",
       "    }\n",
       "</style>\n",
       "<table border=\"1\" class=\"dataframe\">\n",
       "  <thead>\n",
       "    <tr style=\"text-align: right;\">\n",
       "      <th></th>\n",
       "      <th>index</th>\n",
       "      <th>low</th>\n",
       "      <th>high</th>\n",
       "      <th>close</th>\n",
       "      <th>open</th>\n",
       "      <th>close-open</th>\n",
       "      <th>close-open_%of_close</th>\n",
       "      <th>high-low</th>\n",
       "      <th>high-low_%of_close</th>\n",
       "      <th>predicted</th>\n",
       "      <th>predict%</th>\n",
       "      <th>action_level</th>\n",
       "      <th>action</th>\n",
       "      <th>cash</th>\n",
       "      <th>#of_share</th>\n",
       "      <th>tot_value</th>\n",
       "    </tr>\n",
       "  </thead>\n",
       "  <tbody>\n",
       "    <tr>\n",
       "      <th>1551</th>\n",
       "      <td>4551</td>\n",
       "      <td>277.66000</td>\n",
       "      <td>278.95999</td>\n",
       "      <td>277.89001</td>\n",
       "      <td>278.89001</td>\n",
       "      <td>-1.00000</td>\n",
       "      <td>-0.003599</td>\n",
       "      <td>1.29999</td>\n",
       "      <td>0.004678</td>\n",
       "      <td>-0.004968</td>\n",
       "      <td>-0.004968</td>\n",
       "      <td>-2</td>\n",
       "      <td>0.0</td>\n",
       "      <td>97836.5903</td>\n",
       "      <td>0.0</td>\n",
       "      <td>97836.5903</td>\n",
       "    </tr>\n",
       "    <tr>\n",
       "      <th>1552</th>\n",
       "      <td>4552</td>\n",
       "      <td>272.23001</td>\n",
       "      <td>276.76001</td>\n",
       "      <td>274.10001</td>\n",
       "      <td>276.60001</td>\n",
       "      <td>-2.50000</td>\n",
       "      <td>-0.009121</td>\n",
       "      <td>4.53000</td>\n",
       "      <td>0.016527</td>\n",
       "      <td>-0.006611</td>\n",
       "      <td>-0.006611</td>\n",
       "      <td>-2</td>\n",
       "      <td>0.0</td>\n",
       "      <td>97836.5903</td>\n",
       "      <td>0.0</td>\n",
       "      <td>97836.5903</td>\n",
       "    </tr>\n",
       "    <tr>\n",
       "      <th>1553</th>\n",
       "      <td>4553</td>\n",
       "      <td>272.64001</td>\n",
       "      <td>274.39999</td>\n",
       "      <td>273.47000</td>\n",
       "      <td>273.50000</td>\n",
       "      <td>-0.03000</td>\n",
       "      <td>-0.000110</td>\n",
       "      <td>1.75998</td>\n",
       "      <td>0.006436</td>\n",
       "      <td>-0.005508</td>\n",
       "      <td>-0.005508</td>\n",
       "      <td>-2</td>\n",
       "      <td>0.0</td>\n",
       "      <td>97836.5903</td>\n",
       "      <td>0.0</td>\n",
       "      <td>97836.5903</td>\n",
       "    </tr>\n",
       "    <tr>\n",
       "      <th>1554</th>\n",
       "      <td>4554</td>\n",
       "      <td>271.03000</td>\n",
       "      <td>275.71259</td>\n",
       "      <td>271.12000</td>\n",
       "      <td>274.07999</td>\n",
       "      <td>-2.95999</td>\n",
       "      <td>-0.010918</td>\n",
       "      <td>4.68259</td>\n",
       "      <td>0.017271</td>\n",
       "      <td>-0.004976</td>\n",
       "      <td>-0.004976</td>\n",
       "      <td>-2</td>\n",
       "      <td>0.0</td>\n",
       "      <td>97836.5903</td>\n",
       "      <td>0.0</td>\n",
       "      <td>97836.5903</td>\n",
       "    </tr>\n",
       "    <tr>\n",
       "      <th>1555</th>\n",
       "      <td>4555</td>\n",
       "      <td>270.32001</td>\n",
       "      <td>273.60999</td>\n",
       "      <td>272.82001</td>\n",
       "      <td>271.07999</td>\n",
       "      <td>1.74002</td>\n",
       "      <td>0.006378</td>\n",
       "      <td>3.28998</td>\n",
       "      <td>0.012059</td>\n",
       "      <td>-0.007366</td>\n",
       "      <td>-0.007366</td>\n",
       "      <td>0</td>\n",
       "      <td>0.0</td>\n",
       "      <td>97836.5903</td>\n",
       "      <td>0.0</td>\n",
       "      <td>97836.5903</td>\n",
       "    </tr>\n",
       "  </tbody>\n",
       "</table>\n",
       "</div>"
      ],
      "text/plain": [
       "      index        low       high      close       open  close-open  \\\n",
       "1551   4551  277.66000  278.95999  277.89001  278.89001    -1.00000   \n",
       "1552   4552  272.23001  276.76001  274.10001  276.60001    -2.50000   \n",
       "1553   4553  272.64001  274.39999  273.47000  273.50000    -0.03000   \n",
       "1554   4554  271.03000  275.71259  271.12000  274.07999    -2.95999   \n",
       "1555   4555  270.32001  273.60999  272.82001  271.07999     1.74002   \n",
       "\n",
       "      close-open_%of_close  high-low  high-low_%of_close  predicted  predict%  \\\n",
       "1551             -0.003599   1.29999            0.004678  -0.004968 -0.004968   \n",
       "1552             -0.009121   4.53000            0.016527  -0.006611 -0.006611   \n",
       "1553             -0.000110   1.75998            0.006436  -0.005508 -0.005508   \n",
       "1554             -0.010918   4.68259            0.017271  -0.004976 -0.004976   \n",
       "1555              0.006378   3.28998            0.012059  -0.007366 -0.007366   \n",
       "\n",
       "      action_level  action        cash  #of_share   tot_value  \n",
       "1551            -2     0.0  97836.5903        0.0  97836.5903  \n",
       "1552            -2     0.0  97836.5903        0.0  97836.5903  \n",
       "1553            -2     0.0  97836.5903        0.0  97836.5903  \n",
       "1554            -2     0.0  97836.5903        0.0  97836.5903  \n",
       "1555             0     0.0  97836.5903        0.0  97836.5903  "
      ]
     },
     "execution_count": 30,
     "metadata": {},
     "output_type": "execute_result"
    }
   ],
   "source": [
    "port_test.tail()"
   ]
  },
  {
   "cell_type": "code",
   "execution_count": 26,
   "metadata": {},
   "outputs": [
    {
     "data": {
      "text/plain": [
       "<matplotlib.axes._subplots.AxesSubplot at 0x7f9f37cf50f0>"
      ]
     },
     "execution_count": 26,
     "metadata": {},
     "output_type": "execute_result"
    },
    {
     "data": {
      "image/png": "[encoded data removed]",
      "text/plain": [
       "<Figure size 432x288 with 1 Axes>"
      ]
     },
     "metadata": {
      "needs_background": "light"
     },
     "output_type": "display_data"
    }
   ],
   "source": [
    "passive_port = df['close']*100000/port_test.loc[0,'close']\n",
    "df_test_compare = pd.concat([passive_port, port_test['tot_value']],axis=1)\n",
    "df_test_compare.rename(columns={'tot_value':'training portfolio','close':'IVV portfolio'},inplace=True)\n",
    "df_test_compare.plot()"
   ]
  },
  {
   "cell_type": "code",
   "execution_count": 31,
   "metadata": {},
   "outputs": [
    {
     "data": {
      "text/plain": [
       "<matplotlib.axes._subplots.AxesSubplot at 0x7f9f37aef9e8>"
      ]
     },
     "execution_count": 31,
     "metadata": {},
     "output_type": "execute_result"
    },
    {
     "data": {
      "image/png": "[encoded data removed]",
      "text/plain": [
       "<Figure size 432x288 with 1 Axes>"
      ]
     },
     "metadata": {
      "needs_background": "light"
     },
     "output_type": "display_data"
    }
   ],
   "source": [
    "port_test['tot_value'].plot()"
   ]
  },
  {
   "cell_type": "code",
   "execution_count": null,
   "metadata": {},
   "outputs": [],
   "source": []
  },
  {
   "cell_type": "code",
   "execution_count": null,
   "metadata": {},
   "outputs": [],
   "source": []
  },
  {
   "cell_type": "code",
   "execution_count": null,
   "metadata": {},
   "outputs": [],
   "source": []
  },
  {
   "cell_type": "code",
   "execution_count": null,
   "metadata": {},
   "outputs": [],
   "source": []
  },
  {
   "cell_type": "code",
   "execution_count": null,
   "metadata": {},
   "outputs": [],
   "source": []
  },
  {
   "cell_type": "code",
   "execution_count": null,
   "metadata": {},
   "outputs": [],
   "source": [
    "#simple rule: if the predicted price of T+1 is certain percentage higher than the close of T, buy on T+1\n",
    "#assumingly at the price of mean(open + close)\n",
    "#assumptions: start at day 0 with $1000, can only buy integer shares of the IVV product\n",
    "#if strong buy, buy as much as possible; if buy, buy half the maximum possible\n",
    "def portfolio_exe(buy_level, strong_buy_level, sell_level, strong_sell_level, port_train):\n",
    "    port_train['action_level'] =  \n",
    "    \n"
   ]
  },
  {
   "cell_type": "code",
   "execution_count": null,
   "metadata": {},
   "outputs": [],
   "source": []
  },
  {
   "cell_type": "code",
   "execution_count": null,
   "metadata": {},
   "outputs": [],
   "source": [
    "X['close'].plot()"
   ]
  },
  {
   "cell_type": "code",
   "execution_count": null,
   "metadata": {},
   "outputs": [],
   "source": []
  },
  {
   "cell_type": "code",
   "execution_count": null,
   "metadata": {},
   "outputs": [],
   "source": []
  },
  {
   "cell_type": "markdown",
   "metadata": {},
   "source": [
    "## Moving window prediction: use past 22 day, 66 day, 130 day, 252 day to make predictions"
   ]
  },
  {
   "cell_type": "code",
   "execution_count": null,
   "metadata": {},
   "outputs": [],
   "source": []
  },
  {
   "cell_type": "code",
   "execution_count": null,
   "metadata": {},
   "outputs": [],
   "source": [
    "class NeuralNetwork:\n",
    "    def __init__(self, x, y):\n",
    "        self.input      = x\n",
    "        self.weights1   = np.random.rand(self.input.shape[1],4) \n",
    "        self.weights2   = np.random.rand(4,1)                 \n",
    "        self.y          = y\n",
    "        self.output     = np.zeros(y.shape)"
   ]
  }
 ],
 "metadata": {
  "@webio": {
   "lastCommId": "8602588cb81e4d9a8e3f045a8f514000",
   "lastKernelId": "18834a09-0b78-4602-8453-2f446c6a956f"
  },
  "kernelspec": {
   "display_name": "Python 3",
   "language": "python",
   "name": "python3"
  },
  "language_info": {
   "codemirror_mode": {
    "name": "ipython",
    "version": 3
   },
   "file_extension": ".py",
   "mimetype": "text/x-python",
   "name": "python",
   "nbconvert_exporter": "python",
   "pygments_lexer": "ipython3",
   "version": "3.6.5"
  }
 },
 "nbformat": 4,
 "nbformat_minor": 2
}
